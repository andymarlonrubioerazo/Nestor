{
  "cells": [
    {
      "cell_type": "markdown",
      "id": "c1a80e9ef36d35d9",
      "metadata": {
        "collapsed": false
      },
      "source": [
        "# Eda Bivariado"
      ]
    },
    {
      "cell_type": "code",
      "execution_count": 1,
      "id": "8daf2efeb330c37a",
      "metadata": {
        "ExecuteTime": {
          "end_time": "2024-02-03T16:16:34.284096700Z",
          "start_time": "2024-02-03T16:16:34.280093900Z"
        },
        "collapsed": false
      },
      "outputs": [
        {
          "name": "stdout",
          "output_type": "stream",
          "text": [
            "Hello, World!\n"
          ]
        }
      ],
      "source": [
        "# 2024-02-03\n",
        "print(\"Hello, World!\")"
      ]
    }
  ],
  "metadata": {
    "kernelspec": {
      "display_name": "Python 3",
      "language": "python",
      "name": "python3"
    },
    "language_info": {
      "codemirror_mode": {
        "name": "ipython",
        "version": 2
      },
      "file_extension": ".py",
      "mimetype": "text/x-python",
      "name": "python",
      "nbconvert_exporter": "python",
      "pygments_lexer": "ipython2",
      "version": "2.7.6"
    }
  },
  "nbformat": 4,
  "nbformat_minor": 5
}
